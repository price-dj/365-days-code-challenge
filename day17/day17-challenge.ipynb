{
 "cells": [
  {
   "cell_type": "markdown",
   "source": [
    "Day 17 •  H-Index II\n",
    "\n",
    "Given an array of integers citations where citations[i] is the number of citations a researcher received for their i^th paper and citations is sorted in an ascending order, return compute the researcher's h-index.\n",
    "\n",
    "According to the definition of h-index on Wikipedia: A scientist has an index h if h of their n papers have at least h citations each, and the other n − h papers have no more than h citations each.\n",
    "\n",
    "If there are several possible values for h, the maximum one is taken as the h-index.\n",
    "\n",
    "You must write an algorithm that runs in logarithmic time.\n",
    "\n",
    "Example 1:\n",
    "Input: citations = [0,1,3,5,6]\n",
    "Output: 3\n",
    "Explanation: [0,1,3,5,6] means the researcher has 5 papers in total and each of them had received 0, 1, 3, 5, 6 citations respectively.\n",
    "Since the researcher has 3 papers with at least 3 citations each and the remaining two with no more than 3 citations each, their h-index is 3.\n",
    "\n",
    "Example 2:\n",
    "Input: citations = [1,2,100]\n",
    "Output: 2\n",
    " \n",
    "Constraints:\n",
    "•    n == citations.length\n",
    "•    1 <= n <= 10^5\n",
    "•    0 <= citations[i] <= 1000\n",
    "•    citations is sorted in ascending order."
   ],
   "metadata": {
    "collapsed": false
   }
  },
  {
   "cell_type": "code",
   "execution_count": 7,
   "outputs": [],
   "source": [
    "def h_index(citations: list):\n",
    "\n",
    "    h = 0\n",
    "    n = len(citations)\n",
    "\n",
    "    # need to iterate backwards through the array until get to citations[i] == len(citations[i:], or >= as long as min(citations[i:] >= citations[i]))\n",
    "    for i in range(len(citations)):\n",
    "\n",
    "        if i >= citations[i]:\n",
    "            print(i)\n",
    "            h = len(citations[i:])\n",
    "            j = n - h\n",
    "            if max(citations[0:j+1]) <= h:\n",
    "                break\n",
    "    return h\n",
    "\n"
   ],
   "metadata": {
    "collapsed": false
   }
  },
  {
   "cell_type": "code",
   "execution_count": 8,
   "outputs": [
    {
     "name": "stdout",
     "output_type": "stream",
     "text": [
      "1\n",
      "4\n"
     ]
    }
   ],
   "source": [
    "print(h_index([0,1,3,5,6]))"
   ],
   "metadata": {
    "collapsed": false
   }
  },
  {
   "cell_type": "code",
   "execution_count": null,
   "outputs": [],
   "source": [],
   "metadata": {
    "collapsed": false
   }
  }
 ],
 "metadata": {
  "kernelspec": {
   "display_name": "Python 3",
   "language": "python",
   "name": "python3"
  },
  "language_info": {
   "codemirror_mode": {
    "name": "ipython",
    "version": 2
   },
   "file_extension": ".py",
   "mimetype": "text/x-python",
   "name": "python",
   "nbconvert_exporter": "python",
   "pygments_lexer": "ipython2",
   "version": "2.7.6"
  }
 },
 "nbformat": 4,
 "nbformat_minor": 0
}
