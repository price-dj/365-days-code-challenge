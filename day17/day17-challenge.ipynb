{
 "cells": [
  {
   "cell_type": "markdown",
   "source": [
    "Day 17 •  H-Index II\n",
    "\n",
    "Given an array of integers citations where citations[i] is the number of citations a researcher received for their i^th paper and citations is sorted in an ascending order, return compute the researcher's h-index.\n",
    "\n",
    "According to the definition of h-index on Wikipedia: A scientist has an index h if h of their n papers have at least h citations each, and the other n − h papers have no more than h citations each.\n",
    "\n",
    "If there are several possible values for h, the maximum one is taken as the h-index.\n",
    "\n",
    "You must write an algorithm that runs in logarithmic time.\n",
    "\n",
    "Example 1:\n",
    "Input: citations = [0,1,3,5,6]\n",
    "Output: 3\n",
    "Explanation: [0,1,3,5,6] means the researcher has 5 papers in total and each of them had received 0, 1, 3, 5, 6 citations respectively.\n",
    "Since the researcher has 3 papers with at least 3 citations each and the remaining two with no more than 3 citations each, their h-index is 3.\n",
    "\n",
    "Example 2:\n",
    "Input: citations = [1,2,100]\n",
    "Output: 2\n",
    " \n",
    "Constraints:\n",
    "•    n == citations.length\n",
    "•    1 <= n <= 10^5\n",
    "•    0 <= citations[i] <= 1000\n",
    "•    citations is sorted in ascending order."
   ],
   "metadata": {
    "collapsed": false
   }
  },
  {
   "cell_type": "code",
   "execution_count": 1,
   "outputs": [],
   "source": [
    "def h_index(citations: list):\n",
    "\n",
    "    h = 0\n",
    "    n = len(citations)\n",
    "\n",
    "    # need to iterate backwards through the array until get to citations[i] == len(citations[i:], or >= as long as min(citations[i:] >= citations[i]))\n",
    "    # need to iterate not from zero but from 1 to n or n to 1\n",
    "    # needs to be logarithmic but first trying linear\n",
    "\n",
    "    # need to maximise h\n",
    "\n",
    "    for i, e in reversed(list(enumerate(citations))):\n",
    "\n",
    "        if min(citations[i:]) <= i + 1 and max(citations[:i]) <= i + 1:\n",
    "\n",
    "            h = i + 1\n",
    "            break\n",
    "\n",
    "    return h\n",
    "\n"
   ],
   "metadata": {
    "collapsed": false
   }
  },
  {
   "cell_type": "code",
   "execution_count": 2,
   "outputs": [
    {
     "name": "stdout",
     "output_type": "stream",
     "text": [
      "3\n"
     ]
    }
   ],
   "source": [
    "print(h_index([0,1,3,5,6]))"
   ],
   "metadata": {
    "collapsed": false
   }
  },
  {
   "cell_type": "code",
   "execution_count": 3,
   "outputs": [
    {
     "name": "stdout",
     "output_type": "stream",
     "text": [
      "2\n"
     ]
    }
   ],
   "source": [
    "print(h_index([1,2,100]))"
   ],
   "metadata": {
    "collapsed": false
   }
  },
  {
   "cell_type": "code",
   "execution_count": 10,
   "outputs": [],
   "source": [
    "def h_index_binary_search(citations: list) -> int:\n",
    "    h = 0\n",
    "\n",
    "    low = 0\n",
    "    high = len(citations) - 1\n",
    "    #mid = 0\n",
    "    #print(\"here\")\n",
    "\n",
    "    while low <= high:\n",
    "\n",
    "        mid = (high + low) // 2\n",
    "        #print(mid)\n",
    "        if min(citations[mid:]) > mid + 1:\n",
    "            # hindex is too high - ignore right half\n",
    "            high = mid - 1\n",
    "\n",
    "        elif max(citations[:mid -1]) < mid + 1:\n",
    "            # hindex too low - ignore left half\n",
    "            low = mid + 1\n",
    "        else:\n",
    "            h = mid\n",
    "\n",
    "    return h"
   ],
   "metadata": {
    "collapsed": false
   }
  },
  {
   "cell_type": "code",
   "execution_count": 11,
   "outputs": [
    {
     "name": "stdout",
     "output_type": "stream",
     "text": [
      "0\n"
     ]
    }
   ],
   "source": [
    "print(h_index_binary_search([0,1,3,5,6]))"
   ],
   "metadata": {
    "collapsed": false
   }
  },
  {
   "cell_type": "code",
   "execution_count": 5,
   "outputs": [],
   "source": [
    "# solution in discord uses a priority queue"
   ],
   "metadata": {
    "collapsed": false
   }
  }
 ],
 "metadata": {
  "kernelspec": {
   "display_name": "Python 3",
   "language": "python",
   "name": "python3"
  },
  "language_info": {
   "codemirror_mode": {
    "name": "ipython",
    "version": 2
   },
   "file_extension": ".py",
   "mimetype": "text/x-python",
   "name": "python",
   "nbconvert_exporter": "python",
   "pygments_lexer": "ipython2",
   "version": "2.7.6"
  }
 },
 "nbformat": 4,
 "nbformat_minor": 0
}
