{
 "cells": [
  {
   "cell_type": "markdown",
   "source": [
    "Day 5 • Integer to Roman\n",
    "\n",
    "Roman numerals are represented by seven different symbols: I, V, X, L, C, D and M.\n",
    "Symbol       Value\n",
    "I             1\n",
    "V             5\n",
    "X             10\n",
    "L             50\n",
    "C             100\n",
    "D             500\n",
    "M             1000\n",
    "\n",
    "Given an integer, convert it to a roman numeral.\n",
    "\n",
    "Example 1\n",
    "Input: num = 3\n",
    "Output: \"III\"\n",
    "Explanation: 3 is represented as 3 ones.\n",
    "\n",
    "Example 2\n",
    "Input: num = 58\n",
    "Output: \"LVIII\"\n",
    "Explanation: L = 50, V = 5, III = 3.\n",
    "\n",
    "Constraints:\n",
    "•    1 <= num <= 3999"
   ],
   "metadata": {
    "collapsed": false
   }
  },
  {
   "cell_type": "markdown",
   "source": [
    "### convert int to roman numeral\n",
    "\n",
    "### use division and modular arithmetic\n",
    "\n",
    "### I think I've done something like this before\n"
   ],
   "metadata": {
    "collapsed": false
   }
  },
  {
   "cell_type": "code",
   "execution_count": 1,
   "outputs": [],
   "source": [
    "roman_numbers = {1 : \"I\" , 4 :\"IV\",5:\"V\",9:\"IX\",10:\"X\",40:\"XL\",50:\"L\",90:\"XC\",100:\"C\",400:\"CD\",500:\"D\",900:\"CM\",1000:\"M\"}"
   ],
   "metadata": {
    "collapsed": false
   }
  },
  {
   "cell_type": "code",
   "execution_count": 2,
   "outputs": [
    {
     "data": {
      "text/plain": "{1: 'I',\n 4: 'IV',\n 5: 'V',\n 9: 'IX',\n 10: 'X',\n 40: 'XL',\n 50: 'L',\n 90: 'XC',\n 100: 'C',\n 400: 'CD',\n 500: 'D',\n 900: 'CM',\n 1000: 'M'}"
     },
     "execution_count": 2,
     "metadata": {},
     "output_type": "execute_result"
    }
   ],
   "source": [
    "roman_numbers"
   ],
   "metadata": {
    "collapsed": false
   }
  },
  {
   "cell_type": "code",
   "execution_count": 3,
   "outputs": [],
   "source": [
    "from integer2roman import integer2roman as i2r"
   ],
   "metadata": {
    "collapsed": false
   }
  },
  {
   "cell_type": "code",
   "execution_count": 4,
   "outputs": [
    {
     "name": "stdout",
     "output_type": "stream",
     "text": [
      "MMXXIII\n"
     ]
    }
   ],
   "source": [
    "print(i2r(2023))"
   ],
   "metadata": {
    "collapsed": false
   }
  },
  {
   "cell_type": "code",
   "execution_count": null,
   "outputs": [],
   "source": [],
   "metadata": {
    "collapsed": false
   }
  }
 ],
 "metadata": {
  "kernelspec": {
   "display_name": "Python 3",
   "language": "python",
   "name": "python3"
  },
  "language_info": {
   "codemirror_mode": {
    "name": "ipython",
    "version": 2
   },
   "file_extension": ".py",
   "mimetype": "text/x-python",
   "name": "python",
   "nbconvert_exporter": "python",
   "pygments_lexer": "ipython2",
   "version": "2.7.6"
  }
 },
 "nbformat": 4,
 "nbformat_minor": 0
}
