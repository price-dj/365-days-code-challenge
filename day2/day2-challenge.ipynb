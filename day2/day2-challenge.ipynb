{
 "cells": [
  {
   "cell_type": "markdown",
   "source": [
    "# DAY 2  •  Collatz Conjecture\n",
    "\n",
    "Visualise the Collatz Conjecture:\n",
    "take any number x and to get the next number apply the following operation:\n",
    "even: x = x/2\n",
    "odd: x = (3 * x) + 1\n",
    "from any given starting number and follow the series until it reaches 1. For more of a challenge allow users to start from negative numbers.\n",
    "\n",
    "Example:\n",
    "input: 11\n",
    "output: 11, 34, 17, 52, 26, 13, 40, 20, 10, 5, 16, 8, 4, 2, 1\n",
    "\n",
    "Constraints:\n",
    "• start from any integer\n",
    "• finish at 1 (edited)\n",
    "\n",
    "1\n"
   ],
   "metadata": {
    "collapsed": false
   }
  },
  {
   "cell_type": "code",
   "execution_count": null,
   "outputs": [],
   "source": [],
   "metadata": {
    "collapsed": false
   }
  }
 ],
 "metadata": {
  "kernelspec": {
   "display_name": "Python 3",
   "language": "python",
   "name": "python3"
  },
  "language_info": {
   "codemirror_mode": {
    "name": "ipython",
    "version": 2
   },
   "file_extension": ".py",
   "mimetype": "text/x-python",
   "name": "python",
   "nbconvert_exporter": "python",
   "pygments_lexer": "ipython2",
   "version": "2.7.6"
  }
 },
 "nbformat": 4,
 "nbformat_minor": 0
}
