{
 "cells": [
  {
   "cell_type": "markdown",
   "source": [
    "# WEEK 2  •  Search in Rotated Sorted Array\n",
    "\n",
    " There is an integer array nums sorted in ascending order (with distinct values).\n",
    "\n",
    "\n",
    " Prior to being passed to your function, nums is possibly rotated at an unknown pivot index k (1 <= k < nums.length) such that the resulting array is [nums[k], nums[k+1], ..., nums[n-1], nums[0], nums[1], ..., nums[k-1]] (0-indexed). For example, [0,1,2,4,5,6,7] might be rotated at pivot index 3 and become [4,5,6,7,0,1,2].\n",
    "\n",
    "\n",
    " Given the array nums after the possible rotation and an integer target, return the index of target if it is in nums, or -1 if it is not in nums.\n",
    "\n",
    "\n",
    " You must write an algorithm with 0(log n) runtime complexity.\n",
    "\n",
    "\n",
    " Example 1:\n",
    " Input: nums = [4,5,6,7,0,1,2], target = 0\n",
    " Output: 4\n",
    "\n",
    "\n",
    "Example 2:\n",
    " Input: nums = [4,5,6,7,0,1,2], target = 3\n",
    " Output: -1\n",
    "\n",
    "\n",
    " Example 3:\n",
    " Input: nums = [1], target = 0\n",
    " Output: -1\n",
    "\n",
    "\n",
    "  \n",
    " Constraints:\n",
    "•    1 <= nums.length <= 5000\n",
    " •    -10^4 <= nums[i] <= 10^4\n",
    " •    All values of nums are unique.\n",
    " •    nums is an ascending array that is possibly rotated.\n",
    " •    -10^4 <= target <= 10^4 (edited)\n"
   ],
   "metadata": {
    "collapsed": false
   }
  },
  {
   "cell_type": "code",
   "execution_count": null,
   "outputs": [],
   "source": [
    "# am I reading too much into this?"
   ],
   "metadata": {
    "collapsed": false
   }
  }
 ],
 "metadata": {
  "kernelspec": {
   "display_name": "Python 3",
   "language": "python",
   "name": "python3"
  },
  "language_info": {
   "codemirror_mode": {
    "name": "ipython",
    "version": 2
   },
   "file_extension": ".py",
   "mimetype": "text/x-python",
   "name": "python",
   "nbconvert_exporter": "python",
   "pygments_lexer": "ipython2",
   "version": "2.7.6"
  }
 },
 "nbformat": 4,
 "nbformat_minor": 0
}
